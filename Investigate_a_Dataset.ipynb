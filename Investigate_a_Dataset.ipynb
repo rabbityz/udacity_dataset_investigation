{
 "cells": [
  {
   "cell_type": "markdown",
   "metadata": {},
   "source": [
    "> **Tip**: Welcome to the Investigate a Dataset project! You will find tips in quoted sections like this to help organize your approach to your investigation. Before submitting your project, it will be a good idea to go back through your report and remove these sections to make the presentation of your work as tidy as possible. First things first, you might want to double-click this Markdown cell and change the title so that it reflects your dataset and investigation.\n",
    "\n",
    "# Project: Investigate a Dataset (Replace this with something more specific!)\n",
    "\n",
    "## Table of Contents\n",
    "<ul>\n",
    "<li><a href=\"#intro\">Introduction</a></li>\n",
    "<li><a href=\"#wrangling\">Data Wrangling</a></li>\n",
    "<li><a href=\"#eda\">Exploratory Data Analysis</a></li>\n",
    "<li><a href=\"#conclusions\">Conclusions</a></li>\n",
    "</ul>"
   ]
  },
  {
   "cell_type": "markdown",
   "metadata": {},
   "source": [
    "<a id='intro'></a>\n",
    "## Introduction\n",
    "\n",
    "> **Tip**: In this section of the report, provide a brief introduction to the dataset you've selected for analysis. At the end of this section, describe the questions that you plan on exploring over the course of the report. Try to build your report around the analysis of at least one dependent variable and three independent variables. If you're not sure what questions to ask, then make sure you familiarize yourself with the dataset, its variables and the dataset context for ideas of what to explore.\n",
    "\n",
    "> If you haven't yet selected and downloaded your data, make sure you do that first before coming back here. In order to work with the data in this workspace, you also need to upload it to the workspace. To do so, click on the jupyter icon in the upper left to be taken back to the workspace directory. There should be an 'Upload' button in the upper right that will let you add your data file(s) to the workspace. You can then click on the .ipynb file name to come back here."
   ]
  },
  {
   "cell_type": "code",
   "execution_count": 1,
   "metadata": {},
   "outputs": [
    {
     "data": {
      "text/plain": [
       "'en_US.UTF-8'"
      ]
     },
     "execution_count": 1,
     "metadata": {},
     "output_type": "execute_result"
    }
   ],
   "source": [
    "# Use this cell to set up import statements for all of the packages that you\n",
    "#   plan to use.\n",
    "\n",
    "import pandas as pd\n",
    "import numpy as np\n",
    "import matplotlib.pyplot as plt\n",
    "import locale\n",
    "% matplotlib inline \n",
    "\n",
    "locale.setlocale(locale.LC_ALL,'')\n"
   ]
  },
  {
   "cell_type": "markdown",
   "metadata": {},
   "source": [
    "<a id='wrangling'></a>\n",
    "## Data Wrangling\n",
    "\n",
    "> **Tip**: In this section of the report, you will load in the data, check for cleanliness, and then trim and clean your dataset for analysis. Make sure that you document your steps carefully and justify your cleaning decisions.\n",
    "\n",
    "### General Properties"
   ]
  },
  {
   "cell_type": "code",
   "execution_count": 2,
   "metadata": {},
   "outputs": [],
   "source": [
    "# Load your data and print out a few lines. Perform operations to inspect data\n",
    "#   types and look for instances of missing or possibly errant data.\n",
    "movies = pd.read_csv('https://d17h27t6h515a5.cloudfront.net/topher/2017/October/59dd1c4c_tmdb-movies/tmdb-movies.csv')"
   ]
  },
  {
   "cell_type": "code",
   "execution_count": 3,
   "metadata": {},
   "outputs": [
    {
     "data": {
      "text/html": [
       "<div>\n",
       "<style scoped>\n",
       "    .dataframe tbody tr th:only-of-type {\n",
       "        vertical-align: middle;\n",
       "    }\n",
       "\n",
       "    .dataframe tbody tr th {\n",
       "        vertical-align: top;\n",
       "    }\n",
       "\n",
       "    .dataframe thead th {\n",
       "        text-align: right;\n",
       "    }\n",
       "</style>\n",
       "<table border=\"1\" class=\"dataframe\">\n",
       "  <thead>\n",
       "    <tr style=\"text-align: right;\">\n",
       "      <th></th>\n",
       "      <th>id</th>\n",
       "      <th>imdb_id</th>\n",
       "      <th>popularity</th>\n",
       "      <th>budget</th>\n",
       "      <th>revenue</th>\n",
       "      <th>original_title</th>\n",
       "      <th>cast</th>\n",
       "      <th>homepage</th>\n",
       "      <th>director</th>\n",
       "      <th>tagline</th>\n",
       "      <th>...</th>\n",
       "      <th>overview</th>\n",
       "      <th>runtime</th>\n",
       "      <th>genres</th>\n",
       "      <th>production_companies</th>\n",
       "      <th>release_date</th>\n",
       "      <th>vote_count</th>\n",
       "      <th>vote_average</th>\n",
       "      <th>release_year</th>\n",
       "      <th>budget_adj</th>\n",
       "      <th>revenue_adj</th>\n",
       "    </tr>\n",
       "  </thead>\n",
       "  <tbody>\n",
       "    <tr>\n",
       "      <th>0</th>\n",
       "      <td>135397</td>\n",
       "      <td>tt0369610</td>\n",
       "      <td>32.985763</td>\n",
       "      <td>150000000</td>\n",
       "      <td>1513528810</td>\n",
       "      <td>Jurassic World</td>\n",
       "      <td>Chris Pratt|Bryce Dallas Howard|Irrfan Khan|Vi...</td>\n",
       "      <td>http://www.jurassicworld.com/</td>\n",
       "      <td>Colin Trevorrow</td>\n",
       "      <td>The park is open.</td>\n",
       "      <td>...</td>\n",
       "      <td>Twenty-two years after the events of Jurassic ...</td>\n",
       "      <td>124</td>\n",
       "      <td>Action|Adventure|Science Fiction|Thriller</td>\n",
       "      <td>Universal Studios|Amblin Entertainment|Legenda...</td>\n",
       "      <td>6/9/15</td>\n",
       "      <td>5562</td>\n",
       "      <td>6.5</td>\n",
       "      <td>2015</td>\n",
       "      <td>1.379999e+08</td>\n",
       "      <td>1.392446e+09</td>\n",
       "    </tr>\n",
       "    <tr>\n",
       "      <th>1</th>\n",
       "      <td>76341</td>\n",
       "      <td>tt1392190</td>\n",
       "      <td>28.419936</td>\n",
       "      <td>150000000</td>\n",
       "      <td>378436354</td>\n",
       "      <td>Mad Max: Fury Road</td>\n",
       "      <td>Tom Hardy|Charlize Theron|Hugh Keays-Byrne|Nic...</td>\n",
       "      <td>http://www.madmaxmovie.com/</td>\n",
       "      <td>George Miller</td>\n",
       "      <td>What a Lovely Day.</td>\n",
       "      <td>...</td>\n",
       "      <td>An apocalyptic story set in the furthest reach...</td>\n",
       "      <td>120</td>\n",
       "      <td>Action|Adventure|Science Fiction|Thriller</td>\n",
       "      <td>Village Roadshow Pictures|Kennedy Miller Produ...</td>\n",
       "      <td>5/13/15</td>\n",
       "      <td>6185</td>\n",
       "      <td>7.1</td>\n",
       "      <td>2015</td>\n",
       "      <td>1.379999e+08</td>\n",
       "      <td>3.481613e+08</td>\n",
       "    </tr>\n",
       "    <tr>\n",
       "      <th>2</th>\n",
       "      <td>262500</td>\n",
       "      <td>tt2908446</td>\n",
       "      <td>13.112507</td>\n",
       "      <td>110000000</td>\n",
       "      <td>295238201</td>\n",
       "      <td>Insurgent</td>\n",
       "      <td>Shailene Woodley|Theo James|Kate Winslet|Ansel...</td>\n",
       "      <td>http://www.thedivergentseries.movie/#insurgent</td>\n",
       "      <td>Robert Schwentke</td>\n",
       "      <td>One Choice Can Destroy You</td>\n",
       "      <td>...</td>\n",
       "      <td>Beatrice Prior must confront her inner demons ...</td>\n",
       "      <td>119</td>\n",
       "      <td>Adventure|Science Fiction|Thriller</td>\n",
       "      <td>Summit Entertainment|Mandeville Films|Red Wago...</td>\n",
       "      <td>3/18/15</td>\n",
       "      <td>2480</td>\n",
       "      <td>6.3</td>\n",
       "      <td>2015</td>\n",
       "      <td>1.012000e+08</td>\n",
       "      <td>2.716190e+08</td>\n",
       "    </tr>\n",
       "    <tr>\n",
       "      <th>3</th>\n",
       "      <td>140607</td>\n",
       "      <td>tt2488496</td>\n",
       "      <td>11.173104</td>\n",
       "      <td>200000000</td>\n",
       "      <td>2068178225</td>\n",
       "      <td>Star Wars: The Force Awakens</td>\n",
       "      <td>Harrison Ford|Mark Hamill|Carrie Fisher|Adam D...</td>\n",
       "      <td>http://www.starwars.com/films/star-wars-episod...</td>\n",
       "      <td>J.J. Abrams</td>\n",
       "      <td>Every generation has a story.</td>\n",
       "      <td>...</td>\n",
       "      <td>Thirty years after defeating the Galactic Empi...</td>\n",
       "      <td>136</td>\n",
       "      <td>Action|Adventure|Science Fiction|Fantasy</td>\n",
       "      <td>Lucasfilm|Truenorth Productions|Bad Robot</td>\n",
       "      <td>12/15/15</td>\n",
       "      <td>5292</td>\n",
       "      <td>7.5</td>\n",
       "      <td>2015</td>\n",
       "      <td>1.839999e+08</td>\n",
       "      <td>1.902723e+09</td>\n",
       "    </tr>\n",
       "    <tr>\n",
       "      <th>4</th>\n",
       "      <td>168259</td>\n",
       "      <td>tt2820852</td>\n",
       "      <td>9.335014</td>\n",
       "      <td>190000000</td>\n",
       "      <td>1506249360</td>\n",
       "      <td>Furious 7</td>\n",
       "      <td>Vin Diesel|Paul Walker|Jason Statham|Michelle ...</td>\n",
       "      <td>http://www.furious7.com/</td>\n",
       "      <td>James Wan</td>\n",
       "      <td>Vengeance Hits Home</td>\n",
       "      <td>...</td>\n",
       "      <td>Deckard Shaw seeks revenge against Dominic Tor...</td>\n",
       "      <td>137</td>\n",
       "      <td>Action|Crime|Thriller</td>\n",
       "      <td>Universal Pictures|Original Film|Media Rights ...</td>\n",
       "      <td>4/1/15</td>\n",
       "      <td>2947</td>\n",
       "      <td>7.3</td>\n",
       "      <td>2015</td>\n",
       "      <td>1.747999e+08</td>\n",
       "      <td>1.385749e+09</td>\n",
       "    </tr>\n",
       "  </tbody>\n",
       "</table>\n",
       "<p>5 rows × 21 columns</p>\n",
       "</div>"
      ],
      "text/plain": [
       "       id    imdb_id  popularity     budget     revenue  \\\n",
       "0  135397  tt0369610   32.985763  150000000  1513528810   \n",
       "1   76341  tt1392190   28.419936  150000000   378436354   \n",
       "2  262500  tt2908446   13.112507  110000000   295238201   \n",
       "3  140607  tt2488496   11.173104  200000000  2068178225   \n",
       "4  168259  tt2820852    9.335014  190000000  1506249360   \n",
       "\n",
       "                 original_title  \\\n",
       "0                Jurassic World   \n",
       "1            Mad Max: Fury Road   \n",
       "2                     Insurgent   \n",
       "3  Star Wars: The Force Awakens   \n",
       "4                     Furious 7   \n",
       "\n",
       "                                                cast  \\\n",
       "0  Chris Pratt|Bryce Dallas Howard|Irrfan Khan|Vi...   \n",
       "1  Tom Hardy|Charlize Theron|Hugh Keays-Byrne|Nic...   \n",
       "2  Shailene Woodley|Theo James|Kate Winslet|Ansel...   \n",
       "3  Harrison Ford|Mark Hamill|Carrie Fisher|Adam D...   \n",
       "4  Vin Diesel|Paul Walker|Jason Statham|Michelle ...   \n",
       "\n",
       "                                            homepage          director  \\\n",
       "0                      http://www.jurassicworld.com/   Colin Trevorrow   \n",
       "1                        http://www.madmaxmovie.com/     George Miller   \n",
       "2     http://www.thedivergentseries.movie/#insurgent  Robert Schwentke   \n",
       "3  http://www.starwars.com/films/star-wars-episod...       J.J. Abrams   \n",
       "4                           http://www.furious7.com/         James Wan   \n",
       "\n",
       "                         tagline      ...       \\\n",
       "0              The park is open.      ...        \n",
       "1             What a Lovely Day.      ...        \n",
       "2     One Choice Can Destroy You      ...        \n",
       "3  Every generation has a story.      ...        \n",
       "4            Vengeance Hits Home      ...        \n",
       "\n",
       "                                            overview runtime  \\\n",
       "0  Twenty-two years after the events of Jurassic ...     124   \n",
       "1  An apocalyptic story set in the furthest reach...     120   \n",
       "2  Beatrice Prior must confront her inner demons ...     119   \n",
       "3  Thirty years after defeating the Galactic Empi...     136   \n",
       "4  Deckard Shaw seeks revenge against Dominic Tor...     137   \n",
       "\n",
       "                                      genres  \\\n",
       "0  Action|Adventure|Science Fiction|Thriller   \n",
       "1  Action|Adventure|Science Fiction|Thriller   \n",
       "2         Adventure|Science Fiction|Thriller   \n",
       "3   Action|Adventure|Science Fiction|Fantasy   \n",
       "4                      Action|Crime|Thriller   \n",
       "\n",
       "                                production_companies release_date vote_count  \\\n",
       "0  Universal Studios|Amblin Entertainment|Legenda...       6/9/15       5562   \n",
       "1  Village Roadshow Pictures|Kennedy Miller Produ...      5/13/15       6185   \n",
       "2  Summit Entertainment|Mandeville Films|Red Wago...      3/18/15       2480   \n",
       "3          Lucasfilm|Truenorth Productions|Bad Robot     12/15/15       5292   \n",
       "4  Universal Pictures|Original Film|Media Rights ...       4/1/15       2947   \n",
       "\n",
       "   vote_average  release_year    budget_adj   revenue_adj  \n",
       "0           6.5          2015  1.379999e+08  1.392446e+09  \n",
       "1           7.1          2015  1.379999e+08  3.481613e+08  \n",
       "2           6.3          2015  1.012000e+08  2.716190e+08  \n",
       "3           7.5          2015  1.839999e+08  1.902723e+09  \n",
       "4           7.3          2015  1.747999e+08  1.385749e+09  \n",
       "\n",
       "[5 rows x 21 columns]"
      ]
     },
     "execution_count": 3,
     "metadata": {},
     "output_type": "execute_result"
    }
   ],
   "source": [
    "movies.head()"
   ]
  },
  {
   "cell_type": "code",
   "execution_count": 4,
   "metadata": {},
   "outputs": [
    {
     "data": {
      "text/plain": [
       "(10866, 21)"
      ]
     },
     "execution_count": 4,
     "metadata": {},
     "output_type": "execute_result"
    }
   ],
   "source": [
    "movies.shape"
   ]
  },
  {
   "cell_type": "code",
   "execution_count": 5,
   "metadata": {},
   "outputs": [
    {
     "name": "stdout",
     "output_type": "stream",
     "text": [
      "<class 'pandas.core.frame.DataFrame'>\n",
      "RangeIndex: 10866 entries, 0 to 10865\n",
      "Data columns (total 21 columns):\n",
      "id                      10866 non-null int64\n",
      "imdb_id                 10856 non-null object\n",
      "popularity              10866 non-null float64\n",
      "budget                  10866 non-null int64\n",
      "revenue                 10866 non-null int64\n",
      "original_title          10866 non-null object\n",
      "cast                    10790 non-null object\n",
      "homepage                2936 non-null object\n",
      "director                10822 non-null object\n",
      "tagline                 8042 non-null object\n",
      "keywords                9373 non-null object\n",
      "overview                10862 non-null object\n",
      "runtime                 10866 non-null int64\n",
      "genres                  10843 non-null object\n",
      "production_companies    9836 non-null object\n",
      "release_date            10866 non-null object\n",
      "vote_count              10866 non-null int64\n",
      "vote_average            10866 non-null float64\n",
      "release_year            10866 non-null int64\n",
      "budget_adj              10866 non-null float64\n",
      "revenue_adj             10866 non-null float64\n",
      "dtypes: float64(4), int64(6), object(11)\n",
      "memory usage: 1.7+ MB\n"
     ]
    }
   ],
   "source": [
    "movies.info()"
   ]
  },
  {
   "cell_type": "markdown",
   "metadata": {},
   "source": [
    "> **Tip**: You should _not_ perform too many operations in each cell. Create cells freely to explore your data. One option that you can take with this project is to do a lot of explorations in an initial notebook. These don't have to be organized, but make sure you use enough comments to understand the purpose of each code cell. Then, after you're done with your analysis, create a duplicate notebook where you will trim the excess and organize your steps so that you have a flowing, cohesive report.\n",
    "\n",
    "> **Tip**: Make sure that you keep your reader informed on the steps that you are taking in your investigation. Follow every code cell, or every set of related code cells, with a markdown cell to describe to the reader what was found in the preceding cell(s). Try to make it so that the reader can then understand what they will be seeing in the following cell(s).\n",
    "\n",
    "### Data Cleaning (Replace this with more specific notes!)"
   ]
  },
  {
   "cell_type": "code",
   "execution_count": 6,
   "metadata": {
    "scrolled": true
   },
   "outputs": [],
   "source": [
    "# drop redundant & content related columns\n",
    "# popularity is a function of vote_count and vote_average, so can remove vote_count and vote_average to exlude double counting \n",
    "\n",
    "# imdb is just another movie database with an entry for almost every tmdb movie\n",
    "\n",
    "# tagline, keywords, overview, cast - they vary by title and won't help much in the purpose of this research. however, we have kept the genre column to see if content's impact in movie popularity and revenue performance\n",
    "\n",
    "movies.drop(['vote_count','vote_average','imdb_id','tagline','keywords','overview','cast'],axis=1,inplace=True)"
   ]
  },
  {
   "cell_type": "code",
   "execution_count": 7,
   "metadata": {
    "scrolled": false
   },
   "outputs": [
    {
     "name": "stdout",
     "output_type": "stream",
     "text": [
      "<class 'pandas.core.frame.DataFrame'>\n",
      "RangeIndex: 10866 entries, 0 to 10865\n",
      "Data columns (total 14 columns):\n",
      "id                      10866 non-null int64\n",
      "popularity              10866 non-null float64\n",
      "budget                  10866 non-null int64\n",
      "revenue                 10866 non-null int64\n",
      "original_title          10866 non-null object\n",
      "homepage                2936 non-null object\n",
      "director                10822 non-null object\n",
      "runtime                 10866 non-null int64\n",
      "genres                  10843 non-null object\n",
      "production_companies    9836 non-null object\n",
      "release_date            10866 non-null object\n",
      "release_year            10866 non-null int64\n",
      "budget_adj              10866 non-null float64\n",
      "revenue_adj             10866 non-null float64\n",
      "dtypes: float64(3), int64(5), object(6)\n",
      "memory usage: 1.2+ MB\n"
     ]
    }
   ],
   "source": [
    "movies.info()"
   ]
  },
  {
   "cell_type": "code",
   "execution_count": 8,
   "metadata": {
    "scrolled": true
   },
   "outputs": [
    {
     "data": {
      "text/html": [
       "<div>\n",
       "<style scoped>\n",
       "    .dataframe tbody tr th:only-of-type {\n",
       "        vertical-align: middle;\n",
       "    }\n",
       "\n",
       "    .dataframe tbody tr th {\n",
       "        vertical-align: top;\n",
       "    }\n",
       "\n",
       "    .dataframe thead th {\n",
       "        text-align: right;\n",
       "    }\n",
       "</style>\n",
       "<table border=\"1\" class=\"dataframe\">\n",
       "  <thead>\n",
       "    <tr style=\"text-align: right;\">\n",
       "      <th></th>\n",
       "      <th>id</th>\n",
       "      <th>popularity</th>\n",
       "      <th>budget</th>\n",
       "      <th>revenue</th>\n",
       "      <th>runtime</th>\n",
       "      <th>release_year</th>\n",
       "      <th>budget_adj</th>\n",
       "      <th>revenue_adj</th>\n",
       "    </tr>\n",
       "  </thead>\n",
       "  <tbody>\n",
       "    <tr>\n",
       "      <th>count</th>\n",
       "      <td>10866.000000</td>\n",
       "      <td>10866.000000</td>\n",
       "      <td>1.086600e+04</td>\n",
       "      <td>1.086600e+04</td>\n",
       "      <td>10866.000000</td>\n",
       "      <td>10866.000000</td>\n",
       "      <td>1.086600e+04</td>\n",
       "      <td>1.086600e+04</td>\n",
       "    </tr>\n",
       "    <tr>\n",
       "      <th>mean</th>\n",
       "      <td>66064.177434</td>\n",
       "      <td>0.646441</td>\n",
       "      <td>1.462570e+07</td>\n",
       "      <td>3.982332e+07</td>\n",
       "      <td>102.070863</td>\n",
       "      <td>2001.322658</td>\n",
       "      <td>1.755104e+07</td>\n",
       "      <td>5.136436e+07</td>\n",
       "    </tr>\n",
       "    <tr>\n",
       "      <th>std</th>\n",
       "      <td>92130.136561</td>\n",
       "      <td>1.000185</td>\n",
       "      <td>3.091321e+07</td>\n",
       "      <td>1.170035e+08</td>\n",
       "      <td>31.381405</td>\n",
       "      <td>12.812941</td>\n",
       "      <td>3.430616e+07</td>\n",
       "      <td>1.446325e+08</td>\n",
       "    </tr>\n",
       "    <tr>\n",
       "      <th>min</th>\n",
       "      <td>5.000000</td>\n",
       "      <td>0.000065</td>\n",
       "      <td>0.000000e+00</td>\n",
       "      <td>0.000000e+00</td>\n",
       "      <td>0.000000</td>\n",
       "      <td>1960.000000</td>\n",
       "      <td>0.000000e+00</td>\n",
       "      <td>0.000000e+00</td>\n",
       "    </tr>\n",
       "    <tr>\n",
       "      <th>25%</th>\n",
       "      <td>10596.250000</td>\n",
       "      <td>0.207583</td>\n",
       "      <td>0.000000e+00</td>\n",
       "      <td>0.000000e+00</td>\n",
       "      <td>90.000000</td>\n",
       "      <td>1995.000000</td>\n",
       "      <td>0.000000e+00</td>\n",
       "      <td>0.000000e+00</td>\n",
       "    </tr>\n",
       "    <tr>\n",
       "      <th>50%</th>\n",
       "      <td>20669.000000</td>\n",
       "      <td>0.383856</td>\n",
       "      <td>0.000000e+00</td>\n",
       "      <td>0.000000e+00</td>\n",
       "      <td>99.000000</td>\n",
       "      <td>2006.000000</td>\n",
       "      <td>0.000000e+00</td>\n",
       "      <td>0.000000e+00</td>\n",
       "    </tr>\n",
       "    <tr>\n",
       "      <th>75%</th>\n",
       "      <td>75610.000000</td>\n",
       "      <td>0.713817</td>\n",
       "      <td>1.500000e+07</td>\n",
       "      <td>2.400000e+07</td>\n",
       "      <td>111.000000</td>\n",
       "      <td>2011.000000</td>\n",
       "      <td>2.085325e+07</td>\n",
       "      <td>3.369710e+07</td>\n",
       "    </tr>\n",
       "    <tr>\n",
       "      <th>max</th>\n",
       "      <td>417859.000000</td>\n",
       "      <td>32.985763</td>\n",
       "      <td>4.250000e+08</td>\n",
       "      <td>2.781506e+09</td>\n",
       "      <td>900.000000</td>\n",
       "      <td>2015.000000</td>\n",
       "      <td>4.250000e+08</td>\n",
       "      <td>2.827124e+09</td>\n",
       "    </tr>\n",
       "  </tbody>\n",
       "</table>\n",
       "</div>"
      ],
      "text/plain": [
       "                  id    popularity        budget       revenue       runtime  \\\n",
       "count   10866.000000  10866.000000  1.086600e+04  1.086600e+04  10866.000000   \n",
       "mean    66064.177434      0.646441  1.462570e+07  3.982332e+07    102.070863   \n",
       "std     92130.136561      1.000185  3.091321e+07  1.170035e+08     31.381405   \n",
       "min         5.000000      0.000065  0.000000e+00  0.000000e+00      0.000000   \n",
       "25%     10596.250000      0.207583  0.000000e+00  0.000000e+00     90.000000   \n",
       "50%     20669.000000      0.383856  0.000000e+00  0.000000e+00     99.000000   \n",
       "75%     75610.000000      0.713817  1.500000e+07  2.400000e+07    111.000000   \n",
       "max    417859.000000     32.985763  4.250000e+08  2.781506e+09    900.000000   \n",
       "\n",
       "       release_year    budget_adj   revenue_adj  \n",
       "count  10866.000000  1.086600e+04  1.086600e+04  \n",
       "mean    2001.322658  1.755104e+07  5.136436e+07  \n",
       "std       12.812941  3.430616e+07  1.446325e+08  \n",
       "min     1960.000000  0.000000e+00  0.000000e+00  \n",
       "25%     1995.000000  0.000000e+00  0.000000e+00  \n",
       "50%     2006.000000  0.000000e+00  0.000000e+00  \n",
       "75%     2011.000000  2.085325e+07  3.369710e+07  \n",
       "max     2015.000000  4.250000e+08  2.827124e+09  "
      ]
     },
     "execution_count": 8,
     "metadata": {},
     "output_type": "execute_result"
    }
   ],
   "source": [
    "movies.describe()"
   ]
  },
  {
   "cell_type": "code",
   "execution_count": 9,
   "metadata": {},
   "outputs": [
    {
     "data": {
      "image/png": "[encoded data removed]",
      "text/plain": [
       "<matplotlib.figure.Figure at 0x7efe3afc3d30>"
      ]
     },
     "metadata": {
      "needs_background": "light"
     },
     "output_type": "display_data"
    }
   ],
   "source": [
    "movies.hist(figsize=(8,8));"
   ]
  },
  {
   "cell_type": "code",
   "execution_count": 10,
   "metadata": {
    "scrolled": true
   },
   "outputs": [
    {
     "data": {
      "text/plain": [
       "1"
      ]
     },
     "execution_count": 10,
     "metadata": {},
     "output_type": "execute_result"
    }
   ],
   "source": [
    "# find duplicates\n",
    "sum(movies.duplicated())"
   ]
  },
  {
   "cell_type": "code",
   "execution_count": 11,
   "metadata": {},
   "outputs": [],
   "source": [
    "movies.drop_duplicates(inplace=True)"
   ]
  },
  {
   "cell_type": "code",
   "execution_count": 12,
   "metadata": {},
   "outputs": [
    {
     "data": {
      "image/png": "[encoded data removed]",
      "text/plain": [
       "<matplotlib.figure.Figure at 0x7efe3ac2c908>"
      ]
     },
     "metadata": {
      "needs_background": "light"
     },
     "output_type": "display_data"
    }
   ],
   "source": [
    "movies.hist(figsize=(8,8));"
   ]
  },
  {
   "cell_type": "markdown",
   "metadata": {},
   "source": [
    "<a id='eda'></a>\n",
    "## Exploratory Data Analysis\n",
    "\n",
    "> **Tip**: Now that you've trimmed and cleaned your data, you're ready to move on to exploration. Compute statistics and create visualizations with the goal of addressing the research questions that you posed in the Introduction section. It is recommended that you be systematic with your approach. Look at one variable at a time, and then follow it up by looking at relationships between variables.\n",
    "\n",
    "### Research Question 1: Which is the mean and median budget for a movie?"
   ]
  },
  {
   "cell_type": "code",
   "execution_count": 13,
   "metadata": {},
   "outputs": [],
   "source": [
    "# removes entries whereby revenue and budget are zero\n",
    "zero_budget_movie = movies[movies['budget_adj']==0 ].index\n",
    "properly_budgeted_movies = movies.drop(zero_budget_movie)"
   ]
  },
  {
   "cell_type": "code",
   "execution_count": 14,
   "metadata": {
    "scrolled": true
   },
   "outputs": [
    {
     "name": "stdout",
     "output_type": "stream",
     "text": [
      "Mean budget for a movie is USD 36,889,069 in 2010 dollars. Median budget for a movie is USD 22,715,052 in 2010 dollars.\n"
     ]
    }
   ],
   "source": [
    "mean_budget = int(properly_budgeted_movies.budget_adj.mean())\n",
    "median_budget = int(properly_budgeted_movies.budget_adj.median())\n",
    "print(\"Mean budget for a movie is USD \"+ locale.format(\"%d\",mean_budget,grouping=True) +\" in 2010 dollars. Median budget for a movie is USD \"+ locale.format(\"%d\",median_budget,grouping=True) + ' in 2010 dollars.')"
   ]
  },
  {
   "cell_type": "markdown",
   "metadata": {},
   "source": [
    "### Research Question 2 : is longer movies more costly to make?"
   ]
  },
  {
   "cell_type": "code",
   "execution_count": 15,
   "metadata": {},
   "outputs": [
    {
     "name": "stdout",
     "output_type": "stream",
     "text": [
      "103.0\n"
     ]
    }
   ],
   "source": [
    "# Continue to explore the data to address your additional research\n",
    "#   questions. Add more headers as needed if you have more questions to\n",
    "#   investigate.\n",
    "median_runtime = properly_budgeted_movies.runtime.median()\n",
    "print(median_runtime)"
   ]
  },
  {
   "cell_type": "code",
   "execution_count": 16,
   "metadata": {},
   "outputs": [
    {
     "data": {
      "image/png": "[encoded data removed]",
      "text/plain": [
       "<matplotlib.figure.Figure at 0x7efe3aea8ac8>"
      ]
     },
     "metadata": {
      "needs_background": "light"
     },
     "output_type": "display_data"
    }
   ],
   "source": [
    "# visualize the relationship between movie runtime and budget (in 2010 dollars) to \n",
    "properly_budgeted_movies.plot(x='runtime',y='budget_adj',kind='scatter',figsize=(8,8));"
   ]
  },
  {
   "cell_type": "code",
   "execution_count": 17,
   "metadata": {},
   "outputs": [],
   "source": [
    "short_movies = properly_budgeted_movies.query('runtime<{}'.format(median_runtime))\n",
    "long_movies = properly_budgeted_movies.query('runtime>={}'.format(median_runtime))"
   ]
  },
  {
   "cell_type": "code",
   "execution_count": 18,
   "metadata": {},
   "outputs": [
    {
     "data": {
      "text/html": [
       "<div>\n",
       "<style scoped>\n",
       "    .dataframe tbody tr th:only-of-type {\n",
       "        vertical-align: middle;\n",
       "    }\n",
       "\n",
       "    .dataframe tbody tr th {\n",
       "        vertical-align: top;\n",
       "    }\n",
       "\n",
       "    .dataframe thead th {\n",
       "        text-align: right;\n",
       "    }\n",
       "</style>\n",
       "<table border=\"1\" class=\"dataframe\">\n",
       "  <thead>\n",
       "    <tr style=\"text-align: right;\">\n",
       "      <th></th>\n",
       "      <th>id</th>\n",
       "      <th>popularity</th>\n",
       "      <th>budget</th>\n",
       "      <th>revenue</th>\n",
       "      <th>runtime</th>\n",
       "      <th>release_year</th>\n",
       "      <th>budget_adj</th>\n",
       "      <th>revenue_adj</th>\n",
       "    </tr>\n",
       "  </thead>\n",
       "  <tbody>\n",
       "    <tr>\n",
       "      <th>count</th>\n",
       "      <td>2536.000000</td>\n",
       "      <td>2536.000000</td>\n",
       "      <td>2.536000e+03</td>\n",
       "      <td>2.536000e+03</td>\n",
       "      <td>2536.000000</td>\n",
       "      <td>2536.000000</td>\n",
       "      <td>2.536000e+03</td>\n",
       "      <td>2.536000e+03</td>\n",
       "    </tr>\n",
       "    <tr>\n",
       "      <th>mean</th>\n",
       "      <td>50786.917981</td>\n",
       "      <td>0.747128</td>\n",
       "      <td>2.165866e+07</td>\n",
       "      <td>4.992522e+07</td>\n",
       "      <td>91.774054</td>\n",
       "      <td>2002.248817</td>\n",
       "      <td>2.521508e+07</td>\n",
       "      <td>6.067307e+07</td>\n",
       "    </tr>\n",
       "    <tr>\n",
       "      <th>std</th>\n",
       "      <td>76246.917070</td>\n",
       "      <td>0.789792</td>\n",
       "      <td>3.071302e+07</td>\n",
       "      <td>1.094429e+08</td>\n",
       "      <td>10.292671</td>\n",
       "      <td>10.950597</td>\n",
       "      <td>3.319113e+07</td>\n",
       "      <td>1.287122e+08</td>\n",
       "    </tr>\n",
       "    <tr>\n",
       "      <th>min</th>\n",
       "      <td>5.000000</td>\n",
       "      <td>0.001117</td>\n",
       "      <td>1.000000e+00</td>\n",
       "      <td>0.000000e+00</td>\n",
       "      <td>0.000000</td>\n",
       "      <td>1960.000000</td>\n",
       "      <td>9.210911e-01</td>\n",
       "      <td>0.000000e+00</td>\n",
       "    </tr>\n",
       "    <tr>\n",
       "      <th>25%</th>\n",
       "      <td>10016.750000</td>\n",
       "      <td>0.288714</td>\n",
       "      <td>3.112500e+06</td>\n",
       "      <td>0.000000e+00</td>\n",
       "      <td>89.000000</td>\n",
       "      <td>1997.000000</td>\n",
       "      <td>4.206674e+06</td>\n",
       "      <td>0.000000e+00</td>\n",
       "    </tr>\n",
       "    <tr>\n",
       "      <th>50%</th>\n",
       "      <td>15319.500000</td>\n",
       "      <td>0.517281</td>\n",
       "      <td>1.000000e+07</td>\n",
       "      <td>7.667475e+06</td>\n",
       "      <td>93.000000</td>\n",
       "      <td>2005.000000</td>\n",
       "      <td>1.294363e+07</td>\n",
       "      <td>9.538471e+06</td>\n",
       "    </tr>\n",
       "    <tr>\n",
       "      <th>75%</th>\n",
       "      <td>50875.500000</td>\n",
       "      <td>0.941303</td>\n",
       "      <td>2.600000e+07</td>\n",
       "      <td>4.915564e+07</td>\n",
       "      <td>98.000000</td>\n",
       "      <td>2011.000000</td>\n",
       "      <td>3.324105e+07</td>\n",
       "      <td>6.485495e+07</td>\n",
       "    </tr>\n",
       "    <tr>\n",
       "      <th>max</th>\n",
       "      <td>417859.000000</td>\n",
       "      <td>11.422751</td>\n",
       "      <td>4.250000e+08</td>\n",
       "      <td>1.274219e+09</td>\n",
       "      <td>102.000000</td>\n",
       "      <td>2015.000000</td>\n",
       "      <td>4.250000e+08</td>\n",
       "      <td>1.574815e+09</td>\n",
       "    </tr>\n",
       "  </tbody>\n",
       "</table>\n",
       "</div>"
      ],
      "text/plain": [
       "                  id   popularity        budget       revenue      runtime  \\\n",
       "count    2536.000000  2536.000000  2.536000e+03  2.536000e+03  2536.000000   \n",
       "mean    50786.917981     0.747128  2.165866e+07  4.992522e+07    91.774054   \n",
       "std     76246.917070     0.789792  3.071302e+07  1.094429e+08    10.292671   \n",
       "min         5.000000     0.001117  1.000000e+00  0.000000e+00     0.000000   \n",
       "25%     10016.750000     0.288714  3.112500e+06  0.000000e+00    89.000000   \n",
       "50%     15319.500000     0.517281  1.000000e+07  7.667475e+06    93.000000   \n",
       "75%     50875.500000     0.941303  2.600000e+07  4.915564e+07    98.000000   \n",
       "max    417859.000000    11.422751  4.250000e+08  1.274219e+09   102.000000   \n",
       "\n",
       "       release_year    budget_adj   revenue_adj  \n",
       "count   2536.000000  2.536000e+03  2.536000e+03  \n",
       "mean    2002.248817  2.521508e+07  6.067307e+07  \n",
       "std       10.950597  3.319113e+07  1.287122e+08  \n",
       "min     1960.000000  9.210911e-01  0.000000e+00  \n",
       "25%     1997.000000  4.206674e+06  0.000000e+00  \n",
       "50%     2005.000000  1.294363e+07  9.538471e+06  \n",
       "75%     2011.000000  3.324105e+07  6.485495e+07  \n",
       "max     2015.000000  4.250000e+08  1.574815e+09  "
      ]
     },
     "execution_count": 18,
     "metadata": {},
     "output_type": "execute_result"
    }
   ],
   "source": [
    "short_movies.describe()"
   ]
  },
  {
   "cell_type": "code",
   "execution_count": 19,
   "metadata": {},
   "outputs": [
    {
     "data": {
      "text/html": [
       "<div>\n",
       "<style scoped>\n",
       "    .dataframe tbody tr th:only-of-type {\n",
       "        vertical-align: middle;\n",
       "    }\n",
       "\n",
       "    .dataframe tbody tr th {\n",
       "        vertical-align: top;\n",
       "    }\n",
       "\n",
       "    .dataframe thead th {\n",
       "        text-align: right;\n",
       "    }\n",
       "</style>\n",
       "<table border=\"1\" class=\"dataframe\">\n",
       "  <thead>\n",
       "    <tr style=\"text-align: right;\">\n",
       "      <th></th>\n",
       "      <th>id</th>\n",
       "      <th>popularity</th>\n",
       "      <th>budget</th>\n",
       "      <th>revenue</th>\n",
       "      <th>runtime</th>\n",
       "      <th>release_year</th>\n",
       "      <th>budget_adj</th>\n",
       "      <th>revenue_adj</th>\n",
       "    </tr>\n",
       "  </thead>\n",
       "  <tbody>\n",
       "    <tr>\n",
       "      <th>count</th>\n",
       "      <td>2633.000000</td>\n",
       "      <td>2633.000000</td>\n",
       "      <td>2.633000e+03</td>\n",
       "      <td>2.633000e+03</td>\n",
       "      <td>2633.000000</td>\n",
       "      <td>2633.000000</td>\n",
       "      <td>2.633000e+03</td>\n",
       "      <td>2.633000e+03</td>\n",
       "    </tr>\n",
       "    <tr>\n",
       "      <th>mean</th>\n",
       "      <td>40434.797949</td>\n",
       "      <td>1.228636</td>\n",
       "      <td>3.948595e+07</td>\n",
       "      <td>1.095381e+08</td>\n",
       "      <td>121.853779</td>\n",
       "      <td>2000.290163</td>\n",
       "      <td>4.813299e+07</td>\n",
       "      <td>1.421878e+08</td>\n",
       "    </tr>\n",
       "    <tr>\n",
       "      <th>std</th>\n",
       "      <td>68807.945899</td>\n",
       "      <td>1.659775</td>\n",
       "      <td>4.367370e+07</td>\n",
       "      <td>1.914776e+08</td>\n",
       "      <td>21.806178</td>\n",
       "      <td>12.447158</td>\n",
       "      <td>4.624270e+07</td>\n",
       "      <td>2.369626e+08</td>\n",
       "    </tr>\n",
       "    <tr>\n",
       "      <th>min</th>\n",
       "      <td>11.000000</td>\n",
       "      <td>0.006640</td>\n",
       "      <td>8.000000e+00</td>\n",
       "      <td>0.000000e+00</td>\n",
       "      <td>103.000000</td>\n",
       "      <td>1960.000000</td>\n",
       "      <td>8.102293e+00</td>\n",
       "      <td>0.000000e+00</td>\n",
       "    </tr>\n",
       "    <tr>\n",
       "      <th>25%</th>\n",
       "      <td>4192.000000</td>\n",
       "      <td>0.424197</td>\n",
       "      <td>1.100000e+07</td>\n",
       "      <td>5.359645e+06</td>\n",
       "      <td>109.000000</td>\n",
       "      <td>1994.000000</td>\n",
       "      <td>1.577503e+07</td>\n",
       "      <td>7.160736e+06</td>\n",
       "    </tr>\n",
       "    <tr>\n",
       "      <th>50%</th>\n",
       "      <td>11087.000000</td>\n",
       "      <td>0.759673</td>\n",
       "      <td>2.500000e+07</td>\n",
       "      <td>4.045264e+07</td>\n",
       "      <td>117.000000</td>\n",
       "      <td>2004.000000</td>\n",
       "      <td>3.320834e+07</td>\n",
       "      <td>5.660523e+07</td>\n",
       "    </tr>\n",
       "    <tr>\n",
       "      <th>75%</th>\n",
       "      <td>38408.000000</td>\n",
       "      <td>1.396973</td>\n",
       "      <td>5.000000e+07</td>\n",
       "      <td>1.284992e+08</td>\n",
       "      <td>128.000000</td>\n",
       "      <td>2010.000000</td>\n",
       "      <td>6.545264e+07</td>\n",
       "      <td>1.753697e+08</td>\n",
       "    </tr>\n",
       "    <tr>\n",
       "      <th>max</th>\n",
       "      <td>414419.000000</td>\n",
       "      <td>32.985763</td>\n",
       "      <td>3.800000e+08</td>\n",
       "      <td>2.781506e+09</td>\n",
       "      <td>540.000000</td>\n",
       "      <td>2015.000000</td>\n",
       "      <td>3.683713e+08</td>\n",
       "      <td>2.827124e+09</td>\n",
       "    </tr>\n",
       "  </tbody>\n",
       "</table>\n",
       "</div>"
      ],
      "text/plain": [
       "                  id   popularity        budget       revenue      runtime  \\\n",
       "count    2633.000000  2633.000000  2.633000e+03  2.633000e+03  2633.000000   \n",
       "mean    40434.797949     1.228636  3.948595e+07  1.095381e+08   121.853779   \n",
       "std     68807.945899     1.659775  4.367370e+07  1.914776e+08    21.806178   \n",
       "min        11.000000     0.006640  8.000000e+00  0.000000e+00   103.000000   \n",
       "25%      4192.000000     0.424197  1.100000e+07  5.359645e+06   109.000000   \n",
       "50%     11087.000000     0.759673  2.500000e+07  4.045264e+07   117.000000   \n",
       "75%     38408.000000     1.396973  5.000000e+07  1.284992e+08   128.000000   \n",
       "max    414419.000000    32.985763  3.800000e+08  2.781506e+09   540.000000   \n",
       "\n",
       "       release_year    budget_adj   revenue_adj  \n",
       "count   2633.000000  2.633000e+03  2.633000e+03  \n",
       "mean    2000.290163  4.813299e+07  1.421878e+08  \n",
       "std       12.447158  4.624270e+07  2.369626e+08  \n",
       "min     1960.000000  8.102293e+00  0.000000e+00  \n",
       "25%     1994.000000  1.577503e+07  7.160736e+06  \n",
       "50%     2004.000000  3.320834e+07  5.660523e+07  \n",
       "75%     2010.000000  6.545264e+07  1.753697e+08  \n",
       "max     2015.000000  3.683713e+08  2.827124e+09  "
      ]
     },
     "execution_count": 19,
     "metadata": {},
     "output_type": "execute_result"
    }
   ],
   "source": [
    "long_movies.describe()"
   ]
  },
  {
   "cell_type": "code",
   "execution_count": 20,
   "metadata": {
    "scrolled": true
   },
   "outputs": [
    {
     "name": "stdout",
     "output_type": "stream",
     "text": [
      "yes, on average, movies longer than 103.0 minutes are more costly to make with a mean budget of USD 48,132,986 in 2010 dollars\n"
     ]
    }
   ],
   "source": [
    "short_movies_mean_budget = short_movies.budget_adj.mean()\n",
    "long_movies_mean_budget = long_movies.budget_adj.mean()\n",
    "\n",
    "if short_movies_mean_budget > long_movies_mean_budget:\n",
    "    print(\"no, on average, movies shorter than \" + str(median_runtime) + \" minutes are more costly to make with a mean budget of USD \"+locale.format(\"%d\",short_movies_mean_budget,grouping=True)+\" in 2010 dollars\")\n",
    "else:\n",
    "    print(\"yes, on average, movies longer than \" + str(median_runtime) + \" minutes are more costly to make with a mean budget of USD \"+locale.format(\"%d\",long_movies_mean_budget,grouping=True)+\" in 2010 dollars\")"
   ]
  },
  {
   "cell_type": "raw",
   "metadata": {},
   "source": [
    "Conclusion: amongst the movies with budget details, on average, movies longer than 103.0 minutes are more costly to make with a mean budget of USD 48,132,986 in 2010 dollars.\n",
    "\n",
    "Limitation: this applies for only movies with budget details. Also, this analysis assumes that budget is the same as the actual production cost, because we do not have hte actual production cost information."
   ]
  },
  {
   "cell_type": "markdown",
   "metadata": {},
   "source": [
    "### Research Question 3: Is longer movies more profitable?"
   ]
  },
  {
   "cell_type": "code",
   "execution_count": 21,
   "metadata": {},
   "outputs": [],
   "source": [
    "# add a new column called roi to measure the return of investment for each movie\n",
    "# as we only have the investment/budget data for a subset of movies, we use a subset of the movies database, i.e. those with budget numbers \n",
    "properly_budgeted_movies['roi'] = properly_budgeted_movies['revenue']/properly_budgeted_movies['budget']\n"
   ]
  },
  {
   "cell_type": "code",
   "execution_count": 22,
   "metadata": {
    "scrolled": true
   },
   "outputs": [
    {
     "data": {
      "image/png": "[encoded data removed]",
      "text/plain": [
       "<matplotlib.figure.Figure at 0x7efe3a4cbd30>"
      ]
     },
     "metadata": {
      "needs_background": "light"
     },
     "output_type": "display_data"
    }
   ],
   "source": [
    "properly_budgeted_movies.plot(x='runtime',y='roi',kind='scatter',figsize = (8,8));"
   ]
  },
  {
   "cell_type": "code",
   "execution_count": 23,
   "metadata": {},
   "outputs": [],
   "source": [
    "# separate properly budgeted movies into two dataframes based on median runtime \n",
    "short_movies = properly_budgeted_movies.query('runtime<{}'.format(median_runtime))\n",
    "long_movies = properly_budgeted_movies.query('runtime>={}'.format(median_runtime))"
   ]
  },
  {
   "cell_type": "code",
   "execution_count": 24,
   "metadata": {},
   "outputs": [
    {
     "data": {
      "text/html": [
       "<div>\n",
       "<style scoped>\n",
       "    .dataframe tbody tr th:only-of-type {\n",
       "        vertical-align: middle;\n",
       "    }\n",
       "\n",
       "    .dataframe tbody tr th {\n",
       "        vertical-align: top;\n",
       "    }\n",
       "\n",
       "    .dataframe thead th {\n",
       "        text-align: right;\n",
       "    }\n",
       "</style>\n",
       "<table border=\"1\" class=\"dataframe\">\n",
       "  <thead>\n",
       "    <tr style=\"text-align: right;\">\n",
       "      <th></th>\n",
       "      <th>id</th>\n",
       "      <th>popularity</th>\n",
       "      <th>budget</th>\n",
       "      <th>revenue</th>\n",
       "      <th>runtime</th>\n",
       "      <th>release_year</th>\n",
       "      <th>budget_adj</th>\n",
       "      <th>revenue_adj</th>\n",
       "      <th>roi</th>\n",
       "    </tr>\n",
       "  </thead>\n",
       "  <tbody>\n",
       "    <tr>\n",
       "      <th>count</th>\n",
       "      <td>2536.000000</td>\n",
       "      <td>2536.000000</td>\n",
       "      <td>2.536000e+03</td>\n",
       "      <td>2.536000e+03</td>\n",
       "      <td>2536.000000</td>\n",
       "      <td>2536.000000</td>\n",
       "      <td>2.536000e+03</td>\n",
       "      <td>2.536000e+03</td>\n",
       "      <td>2536.000000</td>\n",
       "    </tr>\n",
       "    <tr>\n",
       "      <th>mean</th>\n",
       "      <td>50786.917981</td>\n",
       "      <td>0.747128</td>\n",
       "      <td>2.165866e+07</td>\n",
       "      <td>4.992522e+07</td>\n",
       "      <td>91.774054</td>\n",
       "      <td>2002.248817</td>\n",
       "      <td>2.521508e+07</td>\n",
       "      <td>6.067307e+07</td>\n",
       "      <td>13.932580</td>\n",
       "    </tr>\n",
       "    <tr>\n",
       "      <th>std</th>\n",
       "      <td>76246.917070</td>\n",
       "      <td>0.789792</td>\n",
       "      <td>3.071302e+07</td>\n",
       "      <td>1.094429e+08</td>\n",
       "      <td>10.292671</td>\n",
       "      <td>10.950597</td>\n",
       "      <td>3.319113e+07</td>\n",
       "      <td>1.287122e+08</td>\n",
       "      <td>325.005412</td>\n",
       "    </tr>\n",
       "    <tr>\n",
       "      <th>min</th>\n",
       "      <td>5.000000</td>\n",
       "      <td>0.001117</td>\n",
       "      <td>1.000000e+00</td>\n",
       "      <td>0.000000e+00</td>\n",
       "      <td>0.000000</td>\n",
       "      <td>1960.000000</td>\n",
       "      <td>9.210911e-01</td>\n",
       "      <td>0.000000e+00</td>\n",
       "      <td>0.000000</td>\n",
       "    </tr>\n",
       "    <tr>\n",
       "      <th>25%</th>\n",
       "      <td>10016.750000</td>\n",
       "      <td>0.288714</td>\n",
       "      <td>3.112500e+06</td>\n",
       "      <td>0.000000e+00</td>\n",
       "      <td>89.000000</td>\n",
       "      <td>1997.000000</td>\n",
       "      <td>4.206674e+06</td>\n",
       "      <td>0.000000e+00</td>\n",
       "      <td>0.000000</td>\n",
       "    </tr>\n",
       "    <tr>\n",
       "      <th>50%</th>\n",
       "      <td>15319.500000</td>\n",
       "      <td>0.517281</td>\n",
       "      <td>1.000000e+07</td>\n",
       "      <td>7.667475e+06</td>\n",
       "      <td>93.000000</td>\n",
       "      <td>2005.000000</td>\n",
       "      <td>1.294363e+07</td>\n",
       "      <td>9.538471e+06</td>\n",
       "      <td>0.687299</td>\n",
       "    </tr>\n",
       "    <tr>\n",
       "      <th>75%</th>\n",
       "      <td>50875.500000</td>\n",
       "      <td>0.941303</td>\n",
       "      <td>2.600000e+07</td>\n",
       "      <td>4.915564e+07</td>\n",
       "      <td>98.000000</td>\n",
       "      <td>2011.000000</td>\n",
       "      <td>3.324105e+07</td>\n",
       "      <td>6.485495e+07</td>\n",
       "      <td>2.806127</td>\n",
       "    </tr>\n",
       "    <tr>\n",
       "      <th>max</th>\n",
       "      <td>417859.000000</td>\n",
       "      <td>11.422751</td>\n",
       "      <td>4.250000e+08</td>\n",
       "      <td>1.274219e+09</td>\n",
       "      <td>102.000000</td>\n",
       "      <td>2015.000000</td>\n",
       "      <td>4.250000e+08</td>\n",
       "      <td>1.574815e+09</td>\n",
       "      <td>12890.386667</td>\n",
       "    </tr>\n",
       "  </tbody>\n",
       "</table>\n",
       "</div>"
      ],
      "text/plain": [
       "                  id   popularity        budget       revenue      runtime  \\\n",
       "count    2536.000000  2536.000000  2.536000e+03  2.536000e+03  2536.000000   \n",
       "mean    50786.917981     0.747128  2.165866e+07  4.992522e+07    91.774054   \n",
       "std     76246.917070     0.789792  3.071302e+07  1.094429e+08    10.292671   \n",
       "min         5.000000     0.001117  1.000000e+00  0.000000e+00     0.000000   \n",
       "25%     10016.750000     0.288714  3.112500e+06  0.000000e+00    89.000000   \n",
       "50%     15319.500000     0.517281  1.000000e+07  7.667475e+06    93.000000   \n",
       "75%     50875.500000     0.941303  2.600000e+07  4.915564e+07    98.000000   \n",
       "max    417859.000000    11.422751  4.250000e+08  1.274219e+09   102.000000   \n",
       "\n",
       "       release_year    budget_adj   revenue_adj           roi  \n",
       "count   2536.000000  2.536000e+03  2.536000e+03   2536.000000  \n",
       "mean    2002.248817  2.521508e+07  6.067307e+07     13.932580  \n",
       "std       10.950597  3.319113e+07  1.287122e+08    325.005412  \n",
       "min     1960.000000  9.210911e-01  0.000000e+00      0.000000  \n",
       "25%     1997.000000  4.206674e+06  0.000000e+00      0.000000  \n",
       "50%     2005.000000  1.294363e+07  9.538471e+06      0.687299  \n",
       "75%     2011.000000  3.324105e+07  6.485495e+07      2.806127  \n",
       "max     2015.000000  4.250000e+08  1.574815e+09  12890.386667  "
      ]
     },
     "execution_count": 24,
     "metadata": {},
     "output_type": "execute_result"
    }
   ],
   "source": [
    "short_movies.describe()"
   ]
  },
  {
   "cell_type": "code",
   "execution_count": 25,
   "metadata": {},
   "outputs": [
    {
     "data": {
      "text/html": [
       "<div>\n",
       "<style scoped>\n",
       "    .dataframe tbody tr th:only-of-type {\n",
       "        vertical-align: middle;\n",
       "    }\n",
       "\n",
       "    .dataframe tbody tr th {\n",
       "        vertical-align: top;\n",
       "    }\n",
       "\n",
       "    .dataframe thead th {\n",
       "        text-align: right;\n",
       "    }\n",
       "</style>\n",
       "<table border=\"1\" class=\"dataframe\">\n",
       "  <thead>\n",
       "    <tr style=\"text-align: right;\">\n",
       "      <th></th>\n",
       "      <th>id</th>\n",
       "      <th>popularity</th>\n",
       "      <th>budget</th>\n",
       "      <th>revenue</th>\n",
       "      <th>runtime</th>\n",
       "      <th>release_year</th>\n",
       "      <th>budget_adj</th>\n",
       "      <th>revenue_adj</th>\n",
       "      <th>roi</th>\n",
       "    </tr>\n",
       "  </thead>\n",
       "  <tbody>\n",
       "    <tr>\n",
       "      <th>count</th>\n",
       "      <td>2633.000000</td>\n",
       "      <td>2633.000000</td>\n",
       "      <td>2.633000e+03</td>\n",
       "      <td>2.633000e+03</td>\n",
       "      <td>2633.000000</td>\n",
       "      <td>2633.000000</td>\n",
       "      <td>2.633000e+03</td>\n",
       "      <td>2.633000e+03</td>\n",
       "      <td>2.633000e+03</td>\n",
       "    </tr>\n",
       "    <tr>\n",
       "      <th>mean</th>\n",
       "      <td>40434.797949</td>\n",
       "      <td>1.228636</td>\n",
       "      <td>3.948595e+07</td>\n",
       "      <td>1.095381e+08</td>\n",
       "      <td>121.853779</td>\n",
       "      <td>2000.290163</td>\n",
       "      <td>4.813299e+07</td>\n",
       "      <td>1.421878e+08</td>\n",
       "      <td>4.228325e+02</td>\n",
       "    </tr>\n",
       "    <tr>\n",
       "      <th>std</th>\n",
       "      <td>68807.945899</td>\n",
       "      <td>1.659775</td>\n",
       "      <td>4.367370e+07</td>\n",
       "      <td>1.914776e+08</td>\n",
       "      <td>21.806178</td>\n",
       "      <td>12.447158</td>\n",
       "      <td>4.624270e+07</td>\n",
       "      <td>2.369626e+08</td>\n",
       "      <td>1.989039e+04</td>\n",
       "    </tr>\n",
       "    <tr>\n",
       "      <th>min</th>\n",
       "      <td>11.000000</td>\n",
       "      <td>0.006640</td>\n",
       "      <td>8.000000e+00</td>\n",
       "      <td>0.000000e+00</td>\n",
       "      <td>103.000000</td>\n",
       "      <td>1960.000000</td>\n",
       "      <td>8.102293e+00</td>\n",
       "      <td>0.000000e+00</td>\n",
       "      <td>0.000000e+00</td>\n",
       "    </tr>\n",
       "    <tr>\n",
       "      <th>25%</th>\n",
       "      <td>4192.000000</td>\n",
       "      <td>0.424197</td>\n",
       "      <td>1.100000e+07</td>\n",
       "      <td>5.359645e+06</td>\n",
       "      <td>109.000000</td>\n",
       "      <td>1994.000000</td>\n",
       "      <td>1.577503e+07</td>\n",
       "      <td>7.160736e+06</td>\n",
       "      <td>3.891047e-01</td>\n",
       "    </tr>\n",
       "    <tr>\n",
       "      <th>50%</th>\n",
       "      <td>11087.000000</td>\n",
       "      <td>0.759673</td>\n",
       "      <td>2.500000e+07</td>\n",
       "      <td>4.045264e+07</td>\n",
       "      <td>117.000000</td>\n",
       "      <td>2004.000000</td>\n",
       "      <td>3.320834e+07</td>\n",
       "      <td>5.660523e+07</td>\n",
       "      <td>1.650755e+00</td>\n",
       "    </tr>\n",
       "    <tr>\n",
       "      <th>75%</th>\n",
       "      <td>38408.000000</td>\n",
       "      <td>1.396973</td>\n",
       "      <td>5.000000e+07</td>\n",
       "      <td>1.284992e+08</td>\n",
       "      <td>128.000000</td>\n",
       "      <td>2010.000000</td>\n",
       "      <td>6.545264e+07</td>\n",
       "      <td>1.753697e+08</td>\n",
       "      <td>3.578512e+00</td>\n",
       "    </tr>\n",
       "    <tr>\n",
       "      <th>max</th>\n",
       "      <td>414419.000000</td>\n",
       "      <td>32.985763</td>\n",
       "      <td>3.800000e+08</td>\n",
       "      <td>2.781506e+09</td>\n",
       "      <td>540.000000</td>\n",
       "      <td>2015.000000</td>\n",
       "      <td>3.683713e+08</td>\n",
       "      <td>2.827124e+09</td>\n",
       "      <td>1.018619e+06</td>\n",
       "    </tr>\n",
       "  </tbody>\n",
       "</table>\n",
       "</div>"
      ],
      "text/plain": [
       "                  id   popularity        budget       revenue      runtime  \\\n",
       "count    2633.000000  2633.000000  2.633000e+03  2.633000e+03  2633.000000   \n",
       "mean    40434.797949     1.228636  3.948595e+07  1.095381e+08   121.853779   \n",
       "std     68807.945899     1.659775  4.367370e+07  1.914776e+08    21.806178   \n",
       "min        11.000000     0.006640  8.000000e+00  0.000000e+00   103.000000   \n",
       "25%      4192.000000     0.424197  1.100000e+07  5.359645e+06   109.000000   \n",
       "50%     11087.000000     0.759673  2.500000e+07  4.045264e+07   117.000000   \n",
       "75%     38408.000000     1.396973  5.000000e+07  1.284992e+08   128.000000   \n",
       "max    414419.000000    32.985763  3.800000e+08  2.781506e+09   540.000000   \n",
       "\n",
       "       release_year    budget_adj   revenue_adj           roi  \n",
       "count   2633.000000  2.633000e+03  2.633000e+03  2.633000e+03  \n",
       "mean    2000.290163  4.813299e+07  1.421878e+08  4.228325e+02  \n",
       "std       12.447158  4.624270e+07  2.369626e+08  1.989039e+04  \n",
       "min     1960.000000  8.102293e+00  0.000000e+00  0.000000e+00  \n",
       "25%     1994.000000  1.577503e+07  7.160736e+06  3.891047e-01  \n",
       "50%     2004.000000  3.320834e+07  5.660523e+07  1.650755e+00  \n",
       "75%     2010.000000  6.545264e+07  1.753697e+08  3.578512e+00  \n",
       "max     2015.000000  3.683713e+08  2.827124e+09  1.018619e+06  "
      ]
     },
     "execution_count": 25,
     "metadata": {},
     "output_type": "execute_result"
    }
   ],
   "source": [
    "long_movies.describe()"
   ]
  },
  {
   "cell_type": "code",
   "execution_count": 26,
   "metadata": {},
   "outputs": [],
   "source": [
    "# from the scatter plot, we can see there are a couple of outliers\n",
    "# therefore, we use median roi to compare the profitability of long/short movies and eliminate any potential impact of outliers\n",
    "short_movies_median_roi = short_movies.roi.median()\n",
    "long_movies_median_roi = long_movies.roi.median()"
   ]
  },
  {
   "cell_type": "code",
   "execution_count": 27,
   "metadata": {},
   "outputs": [
    {
     "name": "stdout",
     "output_type": "stream",
     "text": [
      "yes, on average, movies longer than 103.0 minutes are more profitable with a median return on investment of 1.65\n"
     ]
    }
   ],
   "source": [
    "if short_movies_median_roi > long_movies_median_roi:\n",
    "    print(\"no, on average, movies shorter than \" + str(median_runtime) + \" minutes are more profitable with a median return on investment of \"+ str(round(short_movies_median_roi,2)))\n",
    "else:\n",
    "    print(\"yes, on average, movies longer than \" + str(median_runtime) + \" minutes are more profitable with a median return on investment of \"+ str(round(long_movies_median_roi,2)))"
   ]
  },
  {
   "cell_type": "raw",
   "metadata": {},
   "source": [
    "Conclusion: on average, movies longer than 103.0 minutes are more profitable with a median return on investment of 1.65.\n",
    "\n",
    "Limitation: this analysis assumes that actual production costs are same as budget, partly because we do not have the details on actual production costs. It also excludes movies without any budget details. "
   ]
  },
  {
   "cell_type": "markdown",
   "metadata": {},
   "source": [
    "### Research Question 4: is longer movies more popular?"
   ]
  },
  {
   "cell_type": "code",
   "execution_count": 28,
   "metadata": {},
   "outputs": [
    {
     "data": {
      "image/png": "[encoded data removed]",
      "text/plain": [
       "<matplotlib.figure.Figure at 0x7efe3a1ce5f8>"
      ]
     },
     "metadata": {
      "needs_background": "light"
     },
     "output_type": "display_data"
    }
   ],
   "source": [
    "movies.plot(x='runtime',y='popularity',kind='scatter',figsize=(8,8));"
   ]
  },
  {
   "cell_type": "code",
   "execution_count": 29,
   "metadata": {},
   "outputs": [],
   "source": [
    "# scatter plot shows popularity is rightly skewed versus runtime \n",
    "# separate all movies into long and short movies based on median runtime \n",
    "all_movies_median_runtime = movies.runtime.median()\n",
    "short_movies_all = movies.query('runtime<{}'.format(all_movies_median_runtime))\n",
    "long_movies_all = movies.query('runtime>={}'.format(all_movies_median_runtime))"
   ]
  },
  {
   "cell_type": "code",
   "execution_count": 30,
   "metadata": {
    "scrolled": true
   },
   "outputs": [
    {
     "data": {
      "text/html": [
       "<div>\n",
       "<style scoped>\n",
       "    .dataframe tbody tr th:only-of-type {\n",
       "        vertical-align: middle;\n",
       "    }\n",
       "\n",
       "    .dataframe tbody tr th {\n",
       "        vertical-align: top;\n",
       "    }\n",
       "\n",
       "    .dataframe thead th {\n",
       "        text-align: right;\n",
       "    }\n",
       "</style>\n",
       "<table border=\"1\" class=\"dataframe\">\n",
       "  <thead>\n",
       "    <tr style=\"text-align: right;\">\n",
       "      <th></th>\n",
       "      <th>id</th>\n",
       "      <th>popularity</th>\n",
       "      <th>budget</th>\n",
       "      <th>revenue</th>\n",
       "      <th>runtime</th>\n",
       "      <th>release_year</th>\n",
       "      <th>budget_adj</th>\n",
       "      <th>revenue_adj</th>\n",
       "    </tr>\n",
       "  </thead>\n",
       "  <tbody>\n",
       "    <tr>\n",
       "      <th>count</th>\n",
       "      <td>5382.000000</td>\n",
       "      <td>5382.000000</td>\n",
       "      <td>5.382000e+03</td>\n",
       "      <td>5.382000e+03</td>\n",
       "      <td>5382.000000</td>\n",
       "      <td>5382.000000</td>\n",
       "      <td>5.382000e+03</td>\n",
       "      <td>5.382000e+03</td>\n",
       "    </tr>\n",
       "    <tr>\n",
       "      <th>mean</th>\n",
       "      <td>79336.083055</td>\n",
       "      <td>0.470409</td>\n",
       "      <td>7.534480e+06</td>\n",
       "      <td>1.907377e+07</td>\n",
       "      <td>85.189521</td>\n",
       "      <td>2003.183203</td>\n",
       "      <td>8.784524e+06</td>\n",
       "      <td>2.360073e+07</td>\n",
       "    </tr>\n",
       "    <tr>\n",
       "      <th>std</th>\n",
       "      <td>99825.618603</td>\n",
       "      <td>0.544980</td>\n",
       "      <td>2.011029e+07</td>\n",
       "      <td>7.056983e+07</td>\n",
       "      <td>18.155775</td>\n",
       "      <td>11.911192</td>\n",
       "      <td>2.227570e+07</td>\n",
       "      <td>8.438015e+07</td>\n",
       "    </tr>\n",
       "    <tr>\n",
       "      <th>min</th>\n",
       "      <td>5.000000</td>\n",
       "      <td>0.000620</td>\n",
       "      <td>0.000000e+00</td>\n",
       "      <td>0.000000e+00</td>\n",
       "      <td>0.000000</td>\n",
       "      <td>1960.000000</td>\n",
       "      <td>0.000000e+00</td>\n",
       "      <td>0.000000e+00</td>\n",
       "    </tr>\n",
       "    <tr>\n",
       "      <th>25%</th>\n",
       "      <td>13166.500000</td>\n",
       "      <td>0.171398</td>\n",
       "      <td>0.000000e+00</td>\n",
       "      <td>0.000000e+00</td>\n",
       "      <td>85.000000</td>\n",
       "      <td>1998.000000</td>\n",
       "      <td>0.000000e+00</td>\n",
       "      <td>0.000000e+00</td>\n",
       "    </tr>\n",
       "    <tr>\n",
       "      <th>50%</th>\n",
       "      <td>27275.500000</td>\n",
       "      <td>0.319342</td>\n",
       "      <td>0.000000e+00</td>\n",
       "      <td>0.000000e+00</td>\n",
       "      <td>90.000000</td>\n",
       "      <td>2007.000000</td>\n",
       "      <td>0.000000e+00</td>\n",
       "      <td>0.000000e+00</td>\n",
       "    </tr>\n",
       "    <tr>\n",
       "      <th>75%</th>\n",
       "      <td>102645.750000</td>\n",
       "      <td>0.559431</td>\n",
       "      <td>4.800000e+06</td>\n",
       "      <td>2.048122e+06</td>\n",
       "      <td>94.000000</td>\n",
       "      <td>2012.000000</td>\n",
       "      <td>5.553568e+06</td>\n",
       "      <td>2.658667e+06</td>\n",
       "    </tr>\n",
       "    <tr>\n",
       "      <th>max</th>\n",
       "      <td>417859.000000</td>\n",
       "      <td>8.411577</td>\n",
       "      <td>2.000000e+08</td>\n",
       "      <td>1.156731e+09</td>\n",
       "      <td>98.000000</td>\n",
       "      <td>2015.000000</td>\n",
       "      <td>2.032801e+08</td>\n",
       "      <td>1.574815e+09</td>\n",
       "    </tr>\n",
       "  </tbody>\n",
       "</table>\n",
       "</div>"
      ],
      "text/plain": [
       "                  id   popularity        budget       revenue      runtime  \\\n",
       "count    5382.000000  5382.000000  5.382000e+03  5.382000e+03  5382.000000   \n",
       "mean    79336.083055     0.470409  7.534480e+06  1.907377e+07    85.189521   \n",
       "std     99825.618603     0.544980  2.011029e+07  7.056983e+07    18.155775   \n",
       "min         5.000000     0.000620  0.000000e+00  0.000000e+00     0.000000   \n",
       "25%     13166.500000     0.171398  0.000000e+00  0.000000e+00    85.000000   \n",
       "50%     27275.500000     0.319342  0.000000e+00  0.000000e+00    90.000000   \n",
       "75%    102645.750000     0.559431  4.800000e+06  2.048122e+06    94.000000   \n",
       "max    417859.000000     8.411577  2.000000e+08  1.156731e+09    98.000000   \n",
       "\n",
       "       release_year    budget_adj   revenue_adj  \n",
       "count   5382.000000  5.382000e+03  5.382000e+03  \n",
       "mean    2003.183203  8.784524e+06  2.360073e+07  \n",
       "std       11.911192  2.227570e+07  8.438015e+07  \n",
       "min     1960.000000  0.000000e+00  0.000000e+00  \n",
       "25%     1998.000000  0.000000e+00  0.000000e+00  \n",
       "50%     2007.000000  0.000000e+00  0.000000e+00  \n",
       "75%     2012.000000  5.553568e+06  2.658667e+06  \n",
       "max     2015.000000  2.032801e+08  1.574815e+09  "
      ]
     },
     "execution_count": 30,
     "metadata": {},
     "output_type": "execute_result"
    }
   ],
   "source": [
    "short_movies_all.describe()"
   ]
  },
  {
   "cell_type": "code",
   "execution_count": 31,
   "metadata": {
    "scrolled": true
   },
   "outputs": [
    {
     "data": {
      "text/html": [
       "<div>\n",
       "<style scoped>\n",
       "    .dataframe tbody tr th:only-of-type {\n",
       "        vertical-align: middle;\n",
       "    }\n",
       "\n",
       "    .dataframe tbody tr th {\n",
       "        vertical-align: top;\n",
       "    }\n",
       "\n",
       "    .dataframe thead th {\n",
       "        text-align: right;\n",
       "    }\n",
       "</style>\n",
       "<table border=\"1\" class=\"dataframe\">\n",
       "  <thead>\n",
       "    <tr style=\"text-align: right;\">\n",
       "      <th></th>\n",
       "      <th>id</th>\n",
       "      <th>popularity</th>\n",
       "      <th>budget</th>\n",
       "      <th>revenue</th>\n",
       "      <th>runtime</th>\n",
       "      <th>release_year</th>\n",
       "      <th>budget_adj</th>\n",
       "      <th>revenue_adj</th>\n",
       "    </tr>\n",
       "  </thead>\n",
       "  <tbody>\n",
       "    <tr>\n",
       "      <th>count</th>\n",
       "      <td>5483.000000</td>\n",
       "      <td>5483.000000</td>\n",
       "      <td>5.483000e+03</td>\n",
       "      <td>5.483000e+03</td>\n",
       "      <td>5483.000000</td>\n",
       "      <td>5483.000000</td>\n",
       "      <td>5.483000e+03</td>\n",
       "      <td>5.483000e+03</td>\n",
       "    </tr>\n",
       "    <tr>\n",
       "      <th>mean</th>\n",
       "      <td>53041.101404</td>\n",
       "      <td>0.819239</td>\n",
       "      <td>2.158349e+07</td>\n",
       "      <td>6.019774e+07</td>\n",
       "      <td>118.643079</td>\n",
       "      <td>1999.494802</td>\n",
       "      <td>2.615380e+07</td>\n",
       "      <td>7.862577e+07</td>\n",
       "    </tr>\n",
       "    <tr>\n",
       "      <th>std</th>\n",
       "      <td>81843.855058</td>\n",
       "      <td>1.277049</td>\n",
       "      <td>3.740578e+07</td>\n",
       "      <td>1.463076e+08</td>\n",
       "      <td>32.768178</td>\n",
       "      <td>13.392597</td>\n",
       "      <td>4.118260e+07</td>\n",
       "      <td>1.815763e+08</td>\n",
       "    </tr>\n",
       "    <tr>\n",
       "      <th>min</th>\n",
       "      <td>6.000000</td>\n",
       "      <td>0.000065</td>\n",
       "      <td>0.000000e+00</td>\n",
       "      <td>0.000000e+00</td>\n",
       "      <td>99.000000</td>\n",
       "      <td>1960.000000</td>\n",
       "      <td>0.000000e+00</td>\n",
       "      <td>0.000000e+00</td>\n",
       "    </tr>\n",
       "    <tr>\n",
       "      <th>25%</th>\n",
       "      <td>9362.500000</td>\n",
       "      <td>0.251234</td>\n",
       "      <td>0.000000e+00</td>\n",
       "      <td>0.000000e+00</td>\n",
       "      <td>104.000000</td>\n",
       "      <td>1992.000000</td>\n",
       "      <td>0.000000e+00</td>\n",
       "      <td>0.000000e+00</td>\n",
       "    </tr>\n",
       "    <tr>\n",
       "      <th>50%</th>\n",
       "      <td>15192.000000</td>\n",
       "      <td>0.463790</td>\n",
       "      <td>5.000000e+06</td>\n",
       "      <td>3.166000e+06</td>\n",
       "      <td>111.000000</td>\n",
       "      <td>2003.000000</td>\n",
       "      <td>7.120179e+06</td>\n",
       "      <td>3.969147e+06</td>\n",
       "    </tr>\n",
       "    <tr>\n",
       "      <th>75%</th>\n",
       "      <td>49505.500000</td>\n",
       "      <td>0.909852</td>\n",
       "      <td>2.800000e+07</td>\n",
       "      <td>5.384005e+07</td>\n",
       "      <td>123.000000</td>\n",
       "      <td>2010.000000</td>\n",
       "      <td>3.669710e+07</td>\n",
       "      <td>7.488544e+07</td>\n",
       "    </tr>\n",
       "    <tr>\n",
       "      <th>max</th>\n",
       "      <td>414419.000000</td>\n",
       "      <td>32.985763</td>\n",
       "      <td>4.250000e+08</td>\n",
       "      <td>2.781506e+09</td>\n",
       "      <td>900.000000</td>\n",
       "      <td>2015.000000</td>\n",
       "      <td>4.250000e+08</td>\n",
       "      <td>2.827124e+09</td>\n",
       "    </tr>\n",
       "  </tbody>\n",
       "</table>\n",
       "</div>"
      ],
      "text/plain": [
       "                  id   popularity        budget       revenue      runtime  \\\n",
       "count    5483.000000  5483.000000  5.483000e+03  5.483000e+03  5483.000000   \n",
       "mean    53041.101404     0.819239  2.158349e+07  6.019774e+07   118.643079   \n",
       "std     81843.855058     1.277049  3.740578e+07  1.463076e+08    32.768178   \n",
       "min         6.000000     0.000065  0.000000e+00  0.000000e+00    99.000000   \n",
       "25%      9362.500000     0.251234  0.000000e+00  0.000000e+00   104.000000   \n",
       "50%     15192.000000     0.463790  5.000000e+06  3.166000e+06   111.000000   \n",
       "75%     49505.500000     0.909852  2.800000e+07  5.384005e+07   123.000000   \n",
       "max    414419.000000    32.985763  4.250000e+08  2.781506e+09   900.000000   \n",
       "\n",
       "       release_year    budget_adj   revenue_adj  \n",
       "count   5483.000000  5.483000e+03  5.483000e+03  \n",
       "mean    1999.494802  2.615380e+07  7.862577e+07  \n",
       "std       13.392597  4.118260e+07  1.815763e+08  \n",
       "min     1960.000000  0.000000e+00  0.000000e+00  \n",
       "25%     1992.000000  0.000000e+00  0.000000e+00  \n",
       "50%     2003.000000  7.120179e+06  3.969147e+06  \n",
       "75%     2010.000000  3.669710e+07  7.488544e+07  \n",
       "max     2015.000000  4.250000e+08  2.827124e+09  "
      ]
     },
     "execution_count": 31,
     "metadata": {},
     "output_type": "execute_result"
    }
   ],
   "source": [
    "long_movies_all.describe()"
   ]
  },
  {
   "cell_type": "code",
   "execution_count": 32,
   "metadata": {
    "scrolled": true
   },
   "outputs": [
    {
     "name": "stdout",
     "output_type": "stream",
     "text": [
      "yes, on average, movies longer than 99.0 minutes are more popular with a median popularity score of 0.46\n"
     ]
    }
   ],
   "source": [
    "# from the scatter plot, we can see there are a couple of outliers\n",
    "# therefore, we use median to compare the popularity of long/short movies and eliminate any potential impact of outliers\n",
    "\n",
    "all_short_movies_median_popularity = short_movies_all.popularity.median()\n",
    "all_long_movies_median_popularity = long_movies_all.popularity.median()\n",
    "\n",
    "if all_short_movies_median_popularity > all_long_movies_median_popularity:\n",
    "    print(\"no, on average, movies shorter than \" + str(all_movies_median_runtime) + \" minutes are more popular with a median popularity score of \"+ str(round(all_short_movies_median_popularity,2)))\n",
    "else:\n",
    "    print(\"yes, on average, movies longer than \" + str(all_movies_median_runtime) + \" minutes are more popular with a median popularity score of \"+ str(round(all_long_movies_median_popularity,2)))"
   ]
  },
  {
   "cell_type": "raw",
   "metadata": {},
   "source": [
    "Conclusion: on average, movies longer than 99.0 minutes are more popular with a median popularity score of 0.46"
   ]
  },
  {
   "cell_type": "markdown",
   "metadata": {},
   "source": [
    "### Research Question 5: are more popular movies more profitable?"
   ]
  },
  {
   "cell_type": "code",
   "execution_count": 33,
   "metadata": {},
   "outputs": [
    {
     "data": {
      "image/png": "[encoded data removed]",
      "text/plain": [
       "<matplotlib.figure.Figure at 0x7efe3a1e6128>"
      ]
     },
     "metadata": {
      "needs_background": "light"
     },
     "output_type": "display_data"
    }
   ],
   "source": [
    "# we excludes movies without any budget information \n",
    "properly_budgeted_movies.plot(x='popularity',y='roi',kind='scatter',figsize=(8,8));"
   ]
  },
  {
   "cell_type": "code",
   "execution_count": null,
   "metadata": {},
   "outputs": [],
   "source": [
    "# only movies with proper budget info are included in this analysis\n",
    "median_popularity = properly_budgeted_movies.popularity.median()\n",
    "more_popular_movies = properly_budgeted_movies.query('popularity>={}'.format(median_popularity))\n",
    "less_popular_movies = properly_budgeted_movies.query('popularity<{}'.format(median_popularity))"
   ]
  },
  {
   "cell_type": "code",
   "execution_count": null,
   "metadata": {},
   "outputs": [],
   "source": [
    "more_popular_movies.describe()"
   ]
  },
  {
   "cell_type": "code",
   "execution_count": null,
   "metadata": {},
   "outputs": [],
   "source": [
    "less_popular_movies.describe()"
   ]
  },
  {
   "cell_type": "code",
   "execution_count": null,
   "metadata": {},
   "outputs": [],
   "source": [
    "# from the scatter plot, we can see there are a couple of outliers\n",
    "# therefore, we use median to compare the roi of the more/less popular movies and eliminate any potential impact of outliers\n",
    "\n",
    "less_popular_movies_median_roi = less_popular_movies.roi.median()\n",
    "more_popular_movies_median_roi = more_popular_movies.roi.median()\n",
    "\n",
    "if less_popular_movies_median_roi < more_popular_movies_median_roi:\n",
    "    print('yes, on average, movies whose poplarity score is higher than '+str(round(median_popularity,2)) + ' are more profitable with a median return on investment of '+str(round(more_popular_movies_median_roi,2)))\n",
    "else:\n",
    "    print('no, on average, movies whose poplarity score is equal to or lower than '+str(round(median_popularity,2)) + ' are more profitable with a median return on investment of '+str(round(less_popular_movies_median_roi,2)))\n"
   ]
  },
  {
   "cell_type": "markdown",
   "metadata": {},
   "source": [
    "### Research Question 6: which genres of movies are more popular?"
   ]
  },
  {
   "cell_type": "code",
   "execution_count": 34,
   "metadata": {
    "scrolled": false
   },
   "outputs": [
    {
     "data": {
      "text/plain": [
       "array(['Action|Adventure|Science Fiction|Thriller',\n",
       "       'Adventure|Science Fiction|Thriller',\n",
       "       'Action|Adventure|Science Fiction|Fantasy', ...,\n",
       "       'Adventure|Drama|Action|Family|Foreign',\n",
       "       'Comedy|Family|Mystery|Romance',\n",
       "       'Mystery|Science Fiction|Thriller|Drama'], dtype=object)"
      ]
     },
     "execution_count": 34,
     "metadata": {},
     "output_type": "execute_result"
    }
   ],
   "source": [
    "# see all the movie genres in movie database\n",
    "movies.genres.unique()"
   ]
  },
  {
   "cell_type": "code",
   "execution_count": 35,
   "metadata": {},
   "outputs": [],
   "source": [
    "# convert the genre column into a list of genres\n",
    "movies['genres']=np.where((movies['genres'].str.contains('|')),movies['genres'].str.split('|'),movies['genres'])\n",
    "\n"
   ]
  },
  {
   "cell_type": "code",
   "execution_count": 36,
   "metadata": {},
   "outputs": [],
   "source": [
    "# make sure eery row has data as a list, even if only one genre is present\n",
    "movies.loc[:,'genres']=movies.genres.apply(np.atleast_1d)\n",
    "\n",
    "#horizontally stack all lists from all rows into one big list\n",
    "all_genres = np.hstack(movies.genres)"
   ]
  },
  {
   "cell_type": "code",
   "execution_count": 37,
   "metadata": {},
   "outputs": [],
   "source": [
    "# n contains the popularity for that row while l contains the list of genres for that row\n",
    "# repeat the popularity as many times as the length of list l and merge it all into one list\n",
    "all_popularity = []\n",
    "for n,l in movies[['popularity','genres']].values:\n",
    "    all_popularity = all_popularity+([n]*len(l))\n",
    "\n",
    "#assign the merged lists into a new dataframe\n",
    "a = pd.DataFrame({'genre':all_genres,'popularity':all_popularity})"
   ]
  },
  {
   "cell_type": "code",
   "execution_count": 38,
   "metadata": {},
   "outputs": [
    {
     "data": {
      "image/png": "[encoded data removed]",
      "text/plain": [
       "<matplotlib.figure.Figure at 0x7efe3a01e908>"
      ]
     },
     "metadata": {
      "needs_background": "light"
     },
     "output_type": "display_data"
    }
   ],
   "source": [
    "popularity_by_genre = a.sort_values(['popularity']).groupby('genre')['popularity'].mean()\n",
    "popularity_by_genre.sort_values().plot(kind='bar');\n",
    "plt.title('average popularity for each genre');\n",
    "plt.ylabel('Mean popularity');\n",
    "plt.xlabel('Genre');"
   ]
  },
  {
   "cell_type": "raw",
   "metadata": {},
   "source": [
    "Conclusion: Adventure is the most popular movies genre, followed by Science Fiction and Fantasy."
   ]
  },
  {
   "cell_type": "markdown",
   "metadata": {},
   "source": [
    "### Research Question 7: How has movie production trends over time?"
   ]
  },
  {
   "cell_type": "code",
   "execution_count": 39,
   "metadata": {
    "scrolled": false
   },
   "outputs": [
    {
     "data": {
      "image/png": "[encoded data removed]",
      "text/plain": [
       "<matplotlib.figure.Figure at 0x7efe39f9f128>"
      ]
     },
     "metadata": {
      "needs_background": "light"
     },
     "output_type": "display_data"
    }
   ],
   "source": [
    "movies_per_year = movies.release_year.value_counts().sort_index();\n",
    "plt.plot(movies_per_year);\n",
    "plt.title('Movie production trends');\n",
    "plt.xlabel('Year');\n",
    "plt.ylabel('Number of movies per year');"
   ]
  },
  {
   "cell_type": "code",
   "execution_count": 40,
   "metadata": {},
   "outputs": [
    {
     "data": {
      "text/plain": [
       "(2014, 1961)"
      ]
     },
     "execution_count": 40,
     "metadata": {},
     "output_type": "execute_result"
    }
   ],
   "source": [
    "movies_per_year.idxmax(),movies_per_year.idxmin()"
   ]
  },
  {
   "cell_type": "raw",
   "metadata": {},
   "source": [
    "Conclusion: Movie production has increased over time from 1960 to 2015. "
   ]
  },
  {
   "cell_type": "markdown",
   "metadata": {},
   "source": [
    "### Research Question 8: What are the top 20 grossing movies?"
   ]
  },
  {
   "cell_type": "code",
   "execution_count": 41,
   "metadata": {},
   "outputs": [],
   "source": [
    "# get the 20 highest revenues based on 2010 dollars\n",
    "sorted_revenue = movies.revenue_adj.sort_values(ascending = False)[:20]"
   ]
  },
  {
   "cell_type": "code",
   "execution_count": 46,
   "metadata": {
    "scrolled": true
   },
   "outputs": [
    {
     "data": {
      "image/png": "[encoded data removed]",
      "text/plain": [
       "<matplotlib.figure.Figure at 0x7efe3af33b38>"
      ]
     },
     "metadata": {
      "needs_background": "light"
     },
     "output_type": "display_data"
    }
   ],
   "source": [
    "# get the names of the top 20 grossing titles \n",
    "high_grossers = pd.DataFrame()\n",
    "titles = []\n",
    "revenues = []\n",
    "\n",
    "for i in sorted_revenue.index:\n",
    "    titles.append(movies.loc[i,'original_title'])\n",
    "    revenues.append(sorted_revenue.loc[i])\n",
    "    \n",
    "high_grossers['Title']=titles\n",
    "high_grossers['revenue']=revenues\n",
    "high_grossers.set_index('Title',inplace=True)\n",
    "\n",
    "high_grossers.plot(kind='bar',title='Top 20 grossing movies',figsize=(10,5));\n",
    "plt.ylabel('Revenue in 2010 dollars ($bn)');\n"
   ]
  },
  {
   "cell_type": "raw",
   "metadata": {},
   "source": [
    "Conclusion: the chart above summarizes the top 20 grossing movies and their revenue in 2010 dollars."
   ]
  },
  {
   "cell_type": "markdown",
   "metadata": {},
   "source": [
    "<a id='conclusions'></a>\n",
    "## Conclusions\n",
    "\n",
    "> **Tip**: Finally, summarize your findings and the results that have been performed. Make sure that you are clear with regards to the limitations of your exploration. If you haven't done any statistical tests, do not imply any statistical conclusions. And make sure you avoid implying causation from correlation!\n",
    "\n",
    "> **Tip**: Once you are satisfied with your work here, check over your report to make sure that it is satisfies all the areas of the rubric (found on the project submission page at the end of the lesson). You should also probably remove all of the \"Tips\" like this one so that the presentation is as polished as possible.\n",
    "\n",
    "## Submitting your Project \n",
    "\n",
    "> Before you submit your project, you need to create a .html or .pdf version of this notebook in the workspace here. To do that, run the code cell below. If it worked correctly, you should get a return code of 0, and you should see the generated .html file in the workspace directory (click on the orange Jupyter icon in the upper left).\n",
    "\n",
    "> Alternatively, you can download this report as .html via the **File** > **Download as** submenu, and then manually upload it into the workspace directory by clicking on the orange Jupyter icon in the upper left, then using the Upload button.\n",
    "\n",
    "> Once you've done this, you can submit your project by clicking on the \"Submit Project\" button in the lower right here. This will create and submit a zip file with this .ipynb doc and the .html or .pdf version you created. Congratulations!"
   ]
  },
  {
   "cell_type": "code",
   "execution_count": 47,
   "metadata": {},
   "outputs": [
    {
     "data": {
      "text/plain": [
       "0"
      ]
     },
     "execution_count": 47,
     "metadata": {},
     "output_type": "execute_result"
    }
   ],
   "source": [
    "from subprocess import call\n",
    "call(['python', '-m', 'nbconvert', 'Investigate_a_Dataset.ipynb'])"
   ]
  }
 ],
 "metadata": {
  "kernelspec": {
   "display_name": "Python 3",
   "language": "python",
   "name": "python3"
  },
  "language_info": {
   "codemirror_mode": {
    "name": "ipython",
    "version": 3
   },
   "file_extension": ".py",
   "mimetype": "text/x-python",
   "name": "python",
   "nbconvert_exporter": "python",
   "pygments_lexer": "ipython3",
   "version": "3.6.3"
  }
 },
 "nbformat": 4,
 "nbformat_minor": 2
}
